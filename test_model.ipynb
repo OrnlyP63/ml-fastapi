{
 "cells": [
  {
   "cell_type": "code",
   "execution_count": 5,
   "metadata": {},
   "outputs": [],
   "source": [
    "def calculate(operation:str, x:float, y:float):\n",
    "    '''\n",
    "    Operation - takes the string [add, sub, mul, div]\n",
    "    x and y - two numbers\n",
    "    '''\n",
    "\n",
    "    operations = {'add':lambda x, y: x + y,\n",
    "                 'sub':lambda x, y: x - y,\n",
    "                 'mul':lambda x, y: x * y,\n",
    "                 'div':lambda x, y: x / y} \n",
    "    assert operation in operations,  f\"{operation} is not in database\"\n",
    "\n",
    "    func = operations[operation]\n",
    "\n",
    "    return func(x, y)"
   ]
  },
  {
   "cell_type": "code",
   "execution_count": 7,
   "metadata": {},
   "outputs": [
    {
     "data": {
      "text/plain": [
       "2"
      ]
     },
     "execution_count": 7,
     "metadata": {},
     "output_type": "execute_result"
    }
   ],
   "source": [
    "calculate('add', 1, 1)"
   ]
  },
  {
   "cell_type": "code",
   "execution_count": null,
   "metadata": {},
   "outputs": [],
   "source": []
  }
 ],
 "metadata": {
  "kernelspec": {
   "display_name": "base",
   "language": "python",
   "name": "python3"
  },
  "language_info": {
   "codemirror_mode": {
    "name": "ipython",
    "version": 3
   },
   "file_extension": ".py",
   "mimetype": "text/x-python",
   "name": "python",
   "nbconvert_exporter": "python",
   "pygments_lexer": "ipython3",
   "version": "3.9.7"
  },
  "orig_nbformat": 4,
  "vscode": {
   "interpreter": {
    "hash": "f08154012ddadd8e950e6e9e035c7a7b32c136e7647e9b7c77e02eb723a8bedb"
   }
  }
 },
 "nbformat": 4,
 "nbformat_minor": 2
}
